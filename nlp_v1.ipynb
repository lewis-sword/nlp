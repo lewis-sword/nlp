{
 "cells": [
  {
   "cell_type": "markdown",
   "id": "3f274994",
   "metadata": {},
   "source": [
    "# Natural language processing: tokenisation, vectorisation and word embeddings #\n",
    "Notebook looking at tokenisation and word embeddings. Further explanation of word2vec provided at https://arxiv.org/pdf/1411.2738.pdf."
   ]
  },
  {
   "cell_type": "markdown",
   "id": "667a0450-6e25-4232-86ad-a4cb4afb28ed",
   "metadata": {
    "jp-MarkdownHeadingCollapsed": true
   },
   "source": [
    "## 1/. Tokenisation and vectorisation"
   ]
  },
  {
   "cell_type": "code",
   "execution_count": 1,
   "id": "e903568c",
   "metadata": {},
   "outputs": [],
   "source": [
    "import numpy as np\n",
    "import pandas as pd\n",
    "import sklearn\n",
    "import nltk"
   ]
  },
  {
   "cell_type": "code",
   "execution_count": 2,
   "id": "fe2b0d91",
   "metadata": {},
   "outputs": [],
   "source": [
    "#!pip install scikit-learn\n",
    "#!pip install -U gensim\n",
    "#nltk.download(\"all\")"
   ]
  },
  {
   "cell_type": "markdown",
   "id": "bf8c9278",
   "metadata": {},
   "source": [
    "Language in machine learning models is usually broken down/tokenised where each word, sentence of phrase is classed as a token. W can manually read in a book and clean the text so that we only retain certain words. "
   ]
  },
  {
   "cell_type": "code",
   "execution_count": 5,
   "id": "bd3100d4",
   "metadata": {},
   "outputs": [
    {
     "name": "stdout",
     "output_type": "stream",
     "text": [
      "['**the', 'project', 'gutenberg', 'etext', 'of', 'moby', 'dick,', 'by', 'herman', 'melville**', '#3', 'in', 'our', 'series', 'by', 'herman', 'melville', 'this', 'project', 'gutenberg', 'version', 'of', 'moby', 'dick', 'is', 'based', 'on', 'a', 'combination', 'of', 'the', 'etext', 'from', 'the', 'eris', 'project', 'at', 'virginia', 'tech', 'and', 'another', 'from', 'project', \"gutenberg's\", 'archives,', 'as', 'compared', 'to', 'a', 'public-domain', 'hard', 'copy.', 'copyright', 'laws', 'are', 'changing', 'all', 'over', 'the', 'world,', 'be', 'sure', 'to', 'check', 'the', 'copyright', 'laws', 'for', 'your', 'country', 'before', 'posting', 'these', 'files!!', 'please', 'take', 'a', 'look', 'at', 'the', 'important', 'information', 'in', 'this', 'header.', 'we', 'encourage', 'you', 'to', 'keep', 'this', 'file', 'on', 'your', 'own', 'disk,', 'keeping', 'an', 'electronic', 'path']\n"
     ]
    }
   ],
   "source": [
    "filename = 'moby_dick.txt'\n",
    "file = open(filename, 'rt')\n",
    "text = file.read()\n",
    "file.close()\n",
    "# split into words by white space\n",
    "words = text.split()\n",
    "# convert to lowercase\n",
    "words = [word.lower() for word in words]\n",
    "# printing the first 100 words\n",
    "print(words[0:100]) "
   ]
  },
  {
   "cell_type": "markdown",
   "id": "abf6affd",
   "metadata": {},
   "source": [
    "However, we can also use library nltk which has a tokenize program which can handle .txt files and more. "
   ]
  },
  {
   "cell_type": "code",
   "execution_count": 7,
   "id": "4e77c6aa",
   "metadata": {},
   "outputs": [
    {
     "name": "stdout",
     "output_type": "stream",
     "text": [
      "['*', '*', 'The', 'Project', 'Gutenberg', 'Etext', 'of', 'Moby', 'Dick', ',', 'by', 'Herman', 'Melville', '*', '*', '#', '3', 'in', 'our', 'series', 'by', 'Herman', 'Melville', 'This', 'Project', 'Gutenberg', 'version', 'of', 'Moby', 'Dick', 'is', 'based', 'on', 'a', 'combination', 'of', 'the', 'etext', 'from', 'the', 'ERIS', 'project', 'at', 'Virginia', 'Tech', 'and', 'another', 'from', 'Project', 'Gutenberg', \"'s\", 'archives', ',', 'as', 'compared', 'to', 'a', 'public-domain', 'hard', 'copy', '.', 'Copyright', 'laws', 'are', 'changing', 'all', 'over', 'the', 'world', ',', 'be', 'sure', 'to', 'check', 'the', 'copyright', 'laws', 'for', 'your', 'country', 'before', 'posting', 'these', 'files', '!', '!', 'Please', 'take', 'a', 'look', 'at', 'the', 'important', 'information', 'in', 'this', 'header', '.', 'We', 'encourage']\n"
     ]
    }
   ],
   "source": [
    "# split into words\n",
    "from nltk.tokenize import word_tokenize\n",
    "tokens = word_tokenize(text)\n",
    "#performs slightly finer-grain tokenising\n",
    "print(tokens[0:100])"
   ]
  },
  {
   "cell_type": "markdown",
   "id": "cf92b094-4ab0-476d-9330-25b488400a60",
   "metadata": {},
   "source": [
    "Same idea can be repeated for sentences..."
   ]
  },
  {
   "cell_type": "code",
   "execution_count": 8,
   "id": "c1ea8b77-0f97-490b-92f3-28b4a012fced",
   "metadata": {},
   "outputs": [
    {
     "name": "stdout",
     "output_type": "stream",
     "text": [
      "9942\n",
      "['From\\nthence it is the God of breezes fair or foul is first invoked for\\nfavourable winds.', \"Yes, the world's a ship on its passage out, and not\\na voyage complete; and the pulpit is its prow.\"]\n"
     ]
    }
   ],
   "source": [
    "sentences = nltk.sent_tokenize(text) \n",
    "print(len(sentences))\n",
    "print(sentences[1000:1002])"
   ]
  },
  {
   "cell_type": "markdown",
   "id": "f408aa9d-b3d2-4cb0-8c07-97a722b3a664",
   "metadata": {},
   "source": [
    "Say we have a corpus of data like a book. The book contains words, which form phrases/sentences. \n",
    "- We can perform some primary statistical measures of the words in a given corpus using basic counts or term frequency-inverse document frequency (tf-idf). This can give insight into the importance of the words.\n",
    "- Each unqiue word in the book, is part of a vocabulary `vocab`. We can represent each of these words as a vector of length `len(vocab)`, based on its counts/tf-idf values."
   ]
  },
  {
   "cell_type": "markdown",
   "id": "2cbe36ad-e679-4fc3-980f-8fc876c19ad5",
   "metadata": {},
   "source": [
    "**Counts**"
   ]
  },
  {
   "cell_type": "code",
   "execution_count": 13,
   "id": "8d77c999-9180-40c2-8ab0-ededa0efbdf2",
   "metadata": {},
   "outputs": [
    {
     "name": "stdout",
     "output_type": "stream",
     "text": [
      "[[1 1 1 0 1 1 0 1 1 2]\n",
      " [0 1 0 1 0 0 1 1 0 2]\n",
      " [0 0 1 0 0 0 0 0 0 1]]\n"
     ]
    }
   ],
   "source": [
    "from sklearn.feature_extraction.text import CountVectorizer\n",
    "# list of text documents. We call the sentences/phrases documents here, the collection of which froms the text.\n",
    "text = [\"The quick brown fox jumped over the lazy dog.\",\n",
    " \"The dog is over the moon\",\n",
    " \"The fox\"]\n",
    "c_vectorizer = CountVectorizer()\n",
    "c_vec_fit=c_vectorizer.fit(text)\n",
    "matrix_c_vec = c_vectorizer.transform(text)\n",
    "#Below we print out a row (documents) vs. column (possible words) matrix, where each cell corresponds to the word count in the document.\n",
    "print(matrix_c_vec.toarray())"
   ]
  },
  {
   "cell_type": "markdown",
   "id": "2e6ecceb-ef98-4293-b6e0-2ea96760a6a5",
   "metadata": {},
   "source": [
    "The output therefore provides a simple matrix of row vectors: the rows defined by the documents in the text, and these row vector elements by the counts.    "
   ]
  },
  {
   "cell_type": "markdown",
   "id": "8c359e54-c4de-4e7a-9e3d-1844cbe7b4d0",
   "metadata": {},
   "source": [
    "**tf-idf**\n",
    "\n",
    "Terms \"tf\" and \"idf\"  (https://en.wikipedia.org/wiki/Tf%E2%80%93idf) can have different definitions and sklearn's are described below.\n",
    "\n",
    "- tf(doc, term) stands for term frequency. In sklearn this simply means the number of times the \"term\" appears in the selected \"doc\". E.g. in doc = text[1], term=\"the\" appears twice, hence tf(text[1],\"the\") =2.\n",
    "- idf stands for inverse document frequency. To calculate each terms idf value using formula `np.log((N+1)/(df+1))+1` where $N$ is number of documents in the corpus(corpus being `text`) and $df$ is the number of documents in the corpus that contain the specific term. Note this value is independent of specific words appearing in the documents."
   ]
  },
  {
   "cell_type": "code",
   "execution_count": 15,
   "id": "b2532d0f",
   "metadata": {},
   "outputs": [
    {
     "name": "stdout",
     "output_type": "stream",
     "text": [
      "{'the': 9, 'quick': 8, 'brown': 0, 'fox': 2, 'jumped': 4, 'over': 7, 'lazy': 5, 'dog': 1, 'is': 3, 'moon': 6}\n",
      "[1.69314718 1.28768207 1.28768207 1.69314718 1.69314718 1.69314718\n",
      " 1.69314718 1.28768207 1.69314718 1.        ]\n",
      "  (0, 9)\t0.5536419417527538\n",
      "  (0, 7)\t0.3564574014762071\n",
      "  (0, 6)\t0.46869864635920433\n",
      "  (0, 3)\t0.46869864635920433\n",
      "  (0, 1)\t0.3564574014762071\n",
      "(1, 10)\n",
      "[[0.         0.3564574  0.         0.46869865 0.         0.\n",
      "  0.46869865 0.3564574  0.         0.55364194]]\n"
     ]
    }
   ],
   "source": [
    "from sklearn.feature_extraction.text import TfidfVectorizer\n",
    "# list of text documents\n",
    "text = [\"The quick brown fox jumped over the lazy dog.\",\n",
    " \"The dog is over the moon\",\n",
    " \"The fox\"]\n",
    "# create the transform\n",
    "vectorizer = TfidfVectorizer()\n",
    "# tokenize and build vocab\n",
    "vectorizer.fit(text)\n",
    "# summarize\n",
    "print(vectorizer.vocabulary_)\n",
    "print(vectorizer.idf_)\n",
    "# # encode document\n",
    "vector_test = vectorizer.transform([text[1]])\n",
    "print(vector_test)\n",
    "# summarize encoded vector\n",
    "print(vector_test.shape)\n",
    "print(vector_test.toarray())"
   ]
  },
  {
   "cell_type": "markdown",
   "id": "dd108bb1-8713-49a1-bf98-1f2020460270",
   "metadata": {},
   "source": [
    "- In the text saved above there is 10 unique words, and upon applying the tf-idf vecotrizer, each vector component is assigned to a word/token. This is accessed through attribute `vocabulary_`. \n",
    "\n",
    "- The `idf_` attribute returns inverse document frequency values per word.\n",
    "\n",
    "- Note in `text[1]`, which is what we transform in `vector_test`, there are 2 \"the\", 1 \"dog\", 2 \"fox\" and 1 everything else. So naturally, there are only three unique numerical weight values. Why do they take these values? https://kavita-ganesan.com/tfidftransformer-tfidfvectorizer-usage-differences/"
   ]
  },
  {
   "cell_type": "code",
   "execution_count": 17,
   "id": "8a561b25-c5b1-4cd5-a5ed-91d3090f83a4",
   "metadata": {},
   "outputs": [
    {
     "name": "stdout",
     "output_type": "stream",
     "text": [
      "[1.6931471805599454, 1.2876820724517808, 1.0]\n"
     ]
    }
   ],
   "source": [
    "# N = Number of documents in corpus/text. idf_list appends all the different idf values. The number of unique values corresponds to the number of \n",
    "# unique word counts. We have counts 1 (e.g. \"quick\"), 2 (e.g. \"dog\") and 3 (\"the\")\n",
    "N=3\n",
    "idf_list=[]\n",
    "for df in [1,2,3]:\n",
    "    idf=np.log((N+1)/(df+1))+1\n",
    "    idf_list.append(idf)\n",
    "print(idf_list)"
   ]
  },
  {
   "cell_type": "markdown",
   "id": "a4d98536-df6b-4f3b-88ba-f2aca88b806e",
   "metadata": {},
   "source": [
    "To calculate the component of the transformed/encoded vector for each document in the text, we take each words' idf and multiply it by the words' tf (that is term frequency and here it is simply the number of times the term appears in the chosen document). This result we set as the \"term\" component of the vector. Importantly the end vector is normalised  as $||v|| = \\sqrt{v \\cdot v} = 1$. As an explicit example, take document `text[1]` and let us calculate its transformed vector representation."
   ]
  },
  {
   "cell_type": "code",
   "execution_count": 18,
   "id": "cf598e70-1f8e-4ba7-9bff-d49dc0e05b73",
   "metadata": {},
   "outputs": [
    {
     "name": "stdout",
     "output_type": "stream",
     "text": [
      "0.5536419417527538\n",
      "0.3564574014762071\n",
      "0.46869864635920433\n"
     ]
    }
   ],
   "source": [
    "norm_text1 = np.sqrt((2*idf_list[2])**2 + (1*idf_list[1])**2 +(1*idf_list[1])**2 + (1*idf_list[0])**2 + (1*idf_list[0])**2 )\n",
    "#print(norm_text1)\n",
    "print(idf_list[2]*2/norm_text1)# Corresponds to \"the\". Note the factor of 2, since tf(text[1],\"the\") = 2 i.e. \"the\" appears twice in document text[1]\n",
    "print(idf_list[1]*1/norm_text1)# Corresponds to \"dog\" and \"over\"\n",
    "print(idf_list[0]*1/norm_text1)# Corresponds to \"is\" and \"moon\""
   ]
  },
  {
   "cell_type": "markdown",
   "id": "9315da6a-aa6a-4c9f-af98-333966241746",
   "metadata": {},
   "source": [
    "These are the entries that appear in the corresponding vector."
   ]
  },
  {
   "cell_type": "markdown",
   "id": "beb35f1b-beeb-43be-941a-c26c8648b73e",
   "metadata": {},
   "source": [
    "Running the transform on the whole text and formatting into an array, the arrays rows are the document, while its columns are all the possible words from the corpus/text. The cell values are the tf-idf values as we have seen above."
   ]
  },
  {
   "cell_type": "code",
   "execution_count": 19,
   "id": "577302b1-a74a-4e18-8aae-5b6dd4815594",
   "metadata": {},
   "outputs": [
    {
     "name": "stdout",
     "output_type": "stream",
     "text": [
      "  (0, 9)\t0.44235918641789485\n",
      "  (0, 8)\t0.374489604639125\n",
      "  (0, 7)\t0.28480899696733925\n",
      "  (0, 5)\t0.374489604639125\n",
      "  (0, 4)\t0.374489604639125\n",
      "  (0, 2)\t0.28480899696733925\n",
      "  (0, 1)\t0.28480899696733925\n",
      "  (0, 0)\t0.374489604639125\n",
      "  (1, 9)\t0.5536419417527538\n",
      "  (1, 7)\t0.3564574014762071\n",
      "  (1, 6)\t0.46869864635920433\n",
      "  (1, 3)\t0.46869864635920433\n",
      "  (1, 1)\t0.3564574014762071\n",
      "  (2, 9)\t0.6133555370249717\n",
      "  (2, 2)\t0.7898069290660905\n",
      "(3, 10)\n",
      "[[0.3744896  0.284809   0.284809   0.         0.3744896  0.3744896\n",
      "  0.         0.284809   0.3744896  0.44235919]\n",
      " [0.         0.3564574  0.         0.46869865 0.         0.\n",
      "  0.46869865 0.3564574  0.         0.55364194]\n",
      " [0.         0.         0.78980693 0.         0.         0.\n",
      "  0.         0.         0.         0.61335554]]\n"
     ]
    }
   ],
   "source": [
    "vector = vectorizer.transform(text)\n",
    "print(vector)\n",
    "# summarize encoded vector\n",
    "print(vector.shape)\n",
    "print(vector.toarray())"
   ]
  },
  {
   "cell_type": "markdown",
   "id": "f830a319-5a33-45d6-b7c6-503fde722fdb",
   "metadata": {},
   "source": [
    "Like the standard counts, tf-idf therefore produces a matrix of document row vectors, each vector component corresponding to the tf-idf value of a given word. "
   ]
  },
  {
   "cell_type": "markdown",
   "id": "365ebbea-a2a5-4838-a1ad-3875269ca26a",
   "metadata": {},
   "source": [
    "Both counts and tf-idf provide a way of transforming text data to numerical data such that it can be passed into NLP algorithms. The downside of these input values is that they do not carry with them semantic information (at least directly). For that reason, we look to word embeddings."
   ]
  },
  {
   "cell_type": "markdown",
   "id": "a1f1aaef-6c6d-4113-ac30-38e1a5683f48",
   "metadata": {
    "jp-MarkdownHeadingCollapsed": true
   },
   "source": [
    "## 2/. Word embeddings ##"
   ]
  },
  {
   "cell_type": "markdown",
   "id": "9e3280f0-661b-48cd-ac61-f7bae19d47aa",
   "metadata": {},
   "source": [
    "Word embedding means representing words appearing in a corpus, as a real valued vector in an alternative dimensional vector space. The process is able to capture inter-word semantics. The vocabulary vectors can then be processed using machine learning techniques."
   ]
  },
  {
   "cell_type": "markdown",
   "id": "cc153a69-628f-4de9-9c6a-972565704335",
   "metadata": {},
   "source": [
    "The method involves iteration over a corpus of text to learn the association between the words. It relies on a hypothesis that the neighboring words in a text have semantic similarities with each other. It assists in mapping semantically similar words to geometrically close embedding vectors and uses the cosine metric to measure semantic similarity. Cosine similarity is equal to Cos(angle) where the angle is measured between the vector representation of two words/documents."
   ]
  },
  {
   "cell_type": "markdown",
   "id": "368dd03d-a996-4db4-bdf8-8ddbbb45411f",
   "metadata": {},
   "source": [
    "**word2vec**"
   ]
  },
  {
   "cell_type": "markdown",
   "id": "6e4505e3-8af0-4ac3-a5f7-5d8434760129",
   "metadata": {},
   "source": [
    "Word2vec is a two-layer neural net that processes text by “vectorizing” words. Its input is a text corpus and its output is a set of vectors: feature vectors that represent words in that corpus. While Word2vec is not a deep neural network, it turns text into a numerical form that deep neural networks can understand."
   ]
  },
  {
   "cell_type": "markdown",
   "id": "99d15fe3-b55d-4c69-ba7d-3f40d97e0a98",
   "metadata": {},
   "source": [
    "There are two word2vec architectures: continuous bag of words (CBOW) and Skip-gram. Using context words to predict a target word is the CBOW architecture, while using a single input word to predict a target context set of words, is called skip-gram. When the feature vector assigned to a word cannot be used to accurately predict that word’s context, the components of the vector are adjusted. Each word’s context in the corpus is the \"teacher\" sending error signals back to adjust the feature vector. The vectors of words judged similar by their context are nudged closer together by adjusting the numbers in the vector."
   ]
  },
  {
   "cell_type": "markdown",
   "id": "8f2395a5-987a-47ee-bb15-8c70e38f404d",
   "metadata": {},
   "source": [
    "Note that https://arxiv.org/pdf/1411.2738.pdf provides a good breakdown of the architecture, its inputs/outputs and the weight update algorithm. Unlike conventional neural networks, the important point of CBOW is the hidden layer. The hidden layer is an $n$-node layer, which due to the initial one-hot-encoding of the word vector input, serves to create a word embedding in the $n$-dimensional space. "
   ]
  },
  {
   "cell_type": "markdown",
   "id": "9bdb04af-6018-4125-94d0-0b1e6fbb1845",
   "metadata": {},
   "source": [
    "Below we use the gensim package that trains the word2vec network and extracts the hidden layer, word vector embeddings. Naturally Word2Vec has some choice parameters. \n",
    " - The first is the corpus/text data itself.\n",
    " - The second is `min_count` which removes/ignore words with counts below min_count (due to the fact they are incosequential to meaning, and could even be typos).\n",
    " - `size` defines the length of the embedding vector/number of nodes in the hidden layer.\n",
    " - `workers` is also used for parallelization purposes, important for larger datasets."
   ]
  },
  {
   "cell_type": "code",
   "execution_count": 20,
   "id": "1ee667af-6f06-4a4d-9462-61d2a8c5006b",
   "metadata": {},
   "outputs": [
    {
     "name": "stdout",
     "output_type": "stream",
     "text": [
      "Word2Vec<vocab=14, vector_size=100, alpha=0.025>\n",
      "['sentence', 'the', 'is', 'this', 'final', 'and', 'more', 'one', 'another', 'yet', 'second', 'word2vec', 'for', 'first']\n",
      "[-5.3622725e-04  2.3643136e-04  5.1033497e-03  9.0092728e-03\n",
      " -9.3029495e-03 -7.1168090e-03  6.4588725e-03  8.9729885e-03\n",
      " -5.0154282e-03 -3.7633716e-03  7.3805046e-03 -1.5334714e-03\n",
      " -4.5366134e-03  6.5540518e-03 -4.8601604e-03 -1.8160177e-03\n",
      "  2.8765798e-03  9.9187379e-04 -8.2852151e-03 -9.4488179e-03\n",
      "  7.3117660e-03  5.0702621e-03  6.7576934e-03  7.6286553e-04\n",
      "  6.3508903e-03 -3.4053659e-03 -9.4640139e-04  5.7685734e-03\n",
      " -7.5216377e-03 -3.9361035e-03 -7.5115822e-03 -9.3004224e-04\n",
      "  9.5381187e-03 -7.3191668e-03 -2.3337686e-03 -1.9377411e-03\n",
      "  8.0774371e-03 -5.9308959e-03  4.5162440e-05 -4.7537340e-03\n",
      " -9.6035507e-03  5.0072931e-03 -8.7595852e-03 -4.3918253e-03\n",
      " -3.5099984e-05 -2.9618145e-04 -7.6612402e-03  9.6147433e-03\n",
      "  4.9820580e-03  9.2331432e-03 -8.1579173e-03  4.4957981e-03\n",
      " -4.1370760e-03  8.2453608e-04  8.4986202e-03 -4.4621765e-03\n",
      "  4.5175003e-03 -6.7869602e-03 -3.5484887e-03  9.3985079e-03\n",
      " -1.5776526e-03  3.2137157e-04 -4.1406299e-03 -7.6826881e-03\n",
      " -1.5080082e-03  2.4697948e-03 -8.8802696e-04  5.5336617e-03\n",
      " -2.7429771e-03  2.2600652e-03  5.4557943e-03  8.3459532e-03\n",
      " -1.4537406e-03 -9.2081428e-03  4.3705525e-03  5.7178497e-04\n",
      "  7.4419081e-03 -8.1328274e-04 -2.6384138e-03 -8.7530091e-03\n",
      " -8.5655687e-04  2.8265631e-03  5.4014288e-03  7.0526563e-03\n",
      " -5.7031214e-03  1.8588197e-03  6.0888636e-03 -4.7980510e-03\n",
      " -3.1072604e-03  6.7976294e-03  1.6314756e-03  1.8991709e-04\n",
      "  3.4736372e-03  2.1777749e-04  9.6188262e-03  5.0606038e-03\n",
      " -8.9173904e-03 -7.0415605e-03  9.0145587e-04  6.3925339e-03]\n"
     ]
    }
   ],
   "source": [
    "from gensim.models import Word2Vec\n",
    "# define training data\n",
    "sentences = [['this', 'is', 'the', 'first', 'sentence', 'for', 'word2vec'],\n",
    " ['this', 'is', 'the', 'second', 'sentence'],\n",
    " ['yet', 'another', 'sentence'],\n",
    " ['one', 'more', 'sentence'],\n",
    " ['and', 'the', 'final', 'sentence']]\n",
    "# train model\n",
    "model = Word2Vec(sentences, min_count=1)\n",
    "# summarize the loaded model\n",
    "print(model)\n",
    "# summarize vocabulary\n",
    "words = list(model.wv.index_to_key)\n",
    "print(words)\n",
    "#help(model.wv)\n",
    "# access vector for one word\n",
    "print(model.wv[0])"
   ]
  },
  {
   "cell_type": "code",
   "execution_count": 51,
   "id": "02de20b2-42ab-4640-88f3-7d186b06ce81",
   "metadata": {},
   "outputs": [
    {
     "name": "stdout",
     "output_type": "stream",
     "text": [
      "(14, 50)\n"
     ]
    },
    {
     "data": {
      "image/png": "[encoded data removed]",
      "text/plain": [
       "<Figure size 640x480 with 1 Axes>"
      ]
     },
     "metadata": {},
     "output_type": "display_data"
    }
   ],
   "source": [
    "from gensim.models import Word2Vec\n",
    "from sklearn.decomposition import PCA\n",
    "from matplotlib import pyplot\n",
    "# define training data\n",
    "sentences = [['this', 'is', 'the', 'first', 'sentence', 'for', 'word2vec'],\n",
    " ['this', 'is', 'the', 'second', 'sentence'],\n",
    " ['yet', 'another', 'sentence'],\n",
    " ['one', 'more', 'sentence'],\n",
    " ['and', 'the', 'final', 'sentence']]\n",
    "# train model\n",
    "model = Word2Vec(sentences, min_count=1, vector_size=50) # vector_size (int, optional) – Dimensionality of the word vectors, essentially size of the \n",
    "# hidden layer.\n",
    "# fit a 2D PCA model to the vectors\n",
    "X = model.wv[model.wv.key_to_index]\n",
    "print(X.shape) # Number of unique words/length of vocabulary, vs. the embedding layer size\n",
    "pca = PCA(n_components=2)\n",
    "result = pca.fit_transform(X)\n",
    "#print(result)\n",
    "# create a scatter plot of the projection\n",
    "pyplot.scatter(result[:, 0], result[:, 1])\n",
    "words = list(model.wv.index_to_key)\n",
    "for i, word in enumerate(words):\n",
    "     pyplot.annotate(word, xy=(result[i, 0], result[i, 1]))\n",
    "pyplot.show()"
   ]
  },
  {
   "cell_type": "markdown",
   "id": "c2d72cbb-8838-4361-8675-8fea1afcbd7a",
   "metadata": {},
   "source": [
    "So this plot represents how similar words are given there word embedding vector representation. The PCA determines the number and description of the axis. Notably first and final are reasonable close, as they denote event descriptions. The others aren't as obvious."
   ]
  },
  {
   "cell_type": "markdown",
   "id": "41d87313-e5a4-4755-8dc0-6d111e5d84e5",
   "metadata": {},
   "source": [
    "Then we can check some cosine distances between the vectors. Implemented manually, but also using the `most_similar` method from wv."
   ]
  },
  {
   "cell_type": "code",
   "execution_count": 78,
   "id": "892b5d44-729e-4eaa-a408-aa6722a88606",
   "metadata": {},
   "outputs": [
    {
     "name": "stdout",
     "output_type": "stream",
     "text": [
      "{'sentence': 0, 'the': 1, 'is': 2, 'this': 3, 'final': 4, 'and': 5, 'more': 6, 'one': 7, 'another': 8, 'yet': 9, 'second': 10, 'word2vec': 11, 'for': 12, 'first': 13}\n",
      "14\n"
     ]
    }
   ],
   "source": [
    "print(model.wv.key_to_index)\n",
    "print(len(model.wv.key_to_index))"
   ]
  },
  {
   "cell_type": "code",
   "execution_count": 67,
   "id": "2ed7ce2b-7460-440a-a4d3-e4039fa72bd6",
   "metadata": {},
   "outputs": [],
   "source": [
    "def cos_dist(vec1, vec2):\n",
    "    vec1_norm = np.linalg.norm(vec1)\n",
    "    vec2_norm = np.linalg.norm(vec2)\n",
    "    dot_prod = np.dot(vec1,vec2)\n",
    "    return dot_prod/(vec1_norm*vec2_norm)"
   ]
  },
  {
   "cell_type": "code",
   "execution_count": 71,
   "id": "632d3ca0-e27b-4293-957c-bbea63ef8fd9",
   "metadata": {},
   "outputs": [
    {
     "data": {
      "text/plain": [
       "[('sentence', 0.15019883),\n",
       " ('the', -0.01201754),\n",
       " ('is', 0.020485384),\n",
       " ('this', -0.19830054),\n",
       " ('final', 0.15375377),\n",
       " ('and', 0.30655774),\n",
       " ('more', -0.014133254),\n",
       " ('one', 0.118233494),\n",
       " ('another', -0.14298055),\n",
       " ('yet', 0.12584557),\n",
       " ('second', 0.05599532),\n",
       " ('word2vec', 0.19031364),\n",
       " ('for', -0.08253041),\n",
       " ('first', 1.0)]"
      ]
     },
     "execution_count": 71,
     "metadata": {},
     "output_type": "execute_result"
    }
   ],
   "source": [
    "# X[13] corresponds to \"first\"\n",
    "[(model.wv.index_to_key[i],cos_dist(X[i],X[13])) for i in range(0,len(model.wv.key_to_index))]"
   ]
  },
  {
   "cell_type": "code",
   "execution_count": 77,
   "id": "60d17997-270a-4d02-9347-2921b270a432",
   "metadata": {},
   "outputs": [
    {
     "data": {
      "text/plain": [
       "[('and', 0.3065577447414398),\n",
       " ('word2vec', 0.19031362235546112),\n",
       " ('final', 0.15375375747680664),\n",
       " ('sentence', 0.150198832154274),\n",
       " ('yet', 0.12584556639194489),\n",
       " ('one', 0.11823350936174393),\n",
       " ('second', 0.055995337665081024),\n",
       " ('is', 0.020485403016209602),\n",
       " ('the', -0.012017532251775265),\n",
       " ('more', -0.014133245684206486),\n",
       " ('for', -0.0825304239988327),\n",
       " ('another', -0.14298053085803986),\n",
       " ('this', -0.1983005255460739)]"
      ]
     },
     "execution_count": 77,
     "metadata": {},
     "output_type": "execute_result"
    }
   ],
   "source": [
    "model.wv.most_similar(\"first\",topn=len(X[0]))"
   ]
  }
 ],
 "metadata": {
  "kernelspec": {
   "display_name": "Python 3 (ipykernel)",
   "language": "python",
   "name": "python3"
  },
  "language_info": {
   "codemirror_mode": {
    "name": "ipython",
    "version": 3
   },
   "file_extension": ".py",
   "mimetype": "text/x-python",
   "name": "python",
   "nbconvert_exporter": "python",
   "pygments_lexer": "ipython3",
   "version": "3.8.0"
  }
 },
 "nbformat": 4,
 "nbformat_minor": 5
}
